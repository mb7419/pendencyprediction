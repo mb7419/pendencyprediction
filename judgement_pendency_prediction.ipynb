{
  "cells": [
    {
      "cell_type": "markdown",
      "metadata": {
        "id": "DWrpAu9iHU1Z"
      },
      "source": [
        "<h1> Judgement Pendency Prediction <h1>\n",
        "\n",
        "\n",
        "The data used in this file is an abridged version of the dataset [available here](https://www.devdatalab.org/judicial-data) based on the work of [Bhowmik et. al. (2021)](https://dl.acm.org/doi/abs/10.1145/3460112.3471943). The cleaned up and abrdiged dataset with license terms used in this code can be downloaded at https://drive.google.com/file/d/1aQcfZTi2GFdyod8bFYi0VEGqX6mUUhJ4/view?usp=drive_link \n"
      ]
    },
    {
      "cell_type": "markdown",
      "metadata": {
        "id": "ndIpGKhuSQbX"
      },
      "source": [
        "## Import of libraries & dataset"
      ]
    },
    {
      "cell_type": "markdown",
      "metadata": {
        "id": "ax44AOpvAwfu"
      },
      "source": [
        "### Import Libraries"
      ]
    },
    {
      "cell_type": "code",
      "execution_count": null,
      "metadata": {
        "id": "styAAPBV2Fzj"
      },
      "outputs": [],
      "source": [
        "import matplotlib.pyplot as plt\n",
        "import seaborn as sns\n",
        "import numpy as np\n",
        "import pandas as pd\n",
        "from datetime import date\n"
      ]
    },
    {
      "cell_type": "code",
      "execution_count": null,
      "metadata": {
        "id": "T6W3V2AG7fs8"
      },
      "outputs": [],
      "source": [
        "from sklearn.model_selection import train_test_split\n",
        "from sklearn.metrics import accuracy_score\n",
        "from sklearn.metrics import classification_report\n",
        "from sklearn.metrics import confusion_matrix\n",
        "from sklearn.tree import DecisionTreeClassifier\n",
        "from sklearn.ensemble import RandomForestClassifier\n",
        "from sklearn.ensemble import BaggingClassifier\n",
        "from sklearn.preprocessing import LabelEncoder\n",
        "from sklearn.metrics import roc_curve, auc, roc_auc_score\n",
        "from sklearn.metrics import precision_recall_curve\n",
        "from sklearn.metrics import log_loss\n",
        "from sklearn import tree"
      ]
    },
    {
      "cell_type": "markdown",
      "metadata": {
        "id": "RVUhZZ0uqheR"
      },
      "source": [
        "### Import of Cases 2010"
      ]
    },
    {
      "cell_type": "code",
      "execution_count": null,
      "metadata": {
        "colab": {
          "base_uri": "https://localhost:8080/"
        },
        "id": "VG5Ouj_OOG2R",
        "outputId": "07d42b37-a759-4389-e9e3-0988ee0d56fa"
      },
      "outputs": [
        {
          "output_type": "stream",
          "name": "stdout",
          "text": [
            "Mounted at /content/drive\n"
          ]
        }
      ],
      "source": [
        "from google.colab import drive\n",
        "drive.mount('/content/drive')"
      ]
    },
    {
      "cell_type": "code",
      "execution_count": null,
      "metadata": {
        "colab": {
          "base_uri": "https://localhost:8080/",
          "height": 357
        },
        "id": "CB_Ofwb18gl1",
        "outputId": "4b6c4bf1-778f-490f-c4ff-f98730714cdb"
      },
      "outputs": [
        {
          "output_type": "execute_result",
          "data": {
            "text/plain": [
              "                ddl_case_id  year  state_code  dist_code  court_no  \\\n",
              "0  01-01-01-201908000152010  2010           1          1         1   \n",
              "1  01-01-01-201908000242010  2010           1          1         1   \n",
              "2  01-01-01-201908000702010  2010           1          1         1   \n",
              "3  01-01-01-201908001322010  2010           1          1         1   \n",
              "4  01-01-01-201908001572010  2010           1          1         1   \n",
              "\n",
              "               cino             judge_position  female_defendant  \\\n",
              "0  MHNB030003482010  chief judicial magistrate                 0   \n",
              "1  MHNB030001272010  chief judicial magistrate                 0   \n",
              "2  MHNB030014152010  chief judicial magistrate                 0   \n",
              "3  MHNB030009002010  chief judicial magistrate             -9998   \n",
              "4  MHNB030010732010  chief judicial magistrate                 0   \n",
              "\n",
              "  female_petitioner  female_adv_def  female_adv_pet  type_name  purpose_name  \\\n",
              "0            0 male           -9999               0       1429        4946.0   \n",
              "1          1 female           -9999           -9998       1429        3627.0   \n",
              "2            0 male               0               1       1429         509.0   \n",
              "3          1 female               0               0       1429        2237.0   \n",
              "4          1 female           -9999               0       1429        3280.0   \n",
              "\n",
              "   disp_name             date_of_filing           date_of_decision  \\\n",
              "0         25  2010-04-20 00:00:00+00:00  2011-03-31 00:00:00+00:00   \n",
              "1         22  2010-02-11 00:00:00+00:00  2013-07-01 00:00:00+00:00   \n",
              "2         25  2010-05-28 00:00:00+00:00  2015-07-27 00:00:00+00:00   \n",
              "3         25  2010-08-31 00:00:00+00:00  2010-09-09 00:00:00+00:00   \n",
              "4         30  2010-11-12 00:00:00+00:00  2013-05-13 00:00:00+00:00   \n",
              "\n",
              "             date_first_list             date_last_list  \\\n",
              "0  2010-06-23 00:00:00+00:00  2011-02-28 00:00:00+00:00   \n",
              "1  2010-03-11 00:00:00+00:00  2013-06-12 00:00:00+00:00   \n",
              "2  2012-12-24 00:00:00+00:00  2015-06-19 00:00:00+00:00   \n",
              "3  2010-09-03 00:00:00+00:00  2010-09-06 00:00:00+00:00   \n",
              "4  2010-12-13 00:00:00+00:00  2013-03-26 00:00:00+00:00   \n",
              "\n",
              "              date_next_list      act    section bailable_ipc  \\\n",
              "0  2011-03-31 00:00:00+00:00  13504.0  1244334.0          NaN   \n",
              "1  2013-07-01 00:00:00+00:00   4759.0   132871.0          NaN   \n",
              "2  2015-07-27 00:00:00+00:00   9533.0  1166313.0          NaN   \n",
              "3  2010-09-09 00:00:00+00:00   4759.0  1123673.0          NaN   \n",
              "4  2013-05-13 00:00:00+00:00   4759.0   132871.0          NaN   \n",
              "\n",
              "   number_sections_ipc  criminal  ddl_filing_judge_id  ddl_decision_judge_id  \\\n",
              "0                  NaN       0.0                  NaN                    NaN   \n",
              "1                  NaN       1.0                  NaN                   51.0   \n",
              "2                  NaN       0.0                  NaN                    NaN   \n",
              "3                  NaN       1.0                  NaN                    NaN   \n",
              "4                  NaN       1.0                  NaN                   92.0   \n",
              "\n",
              "  female_judge_filing start_date_filing end_date_filing female_judge_decision  \\\n",
              "0                 NaN               NaN             NaN                   NaN   \n",
              "1                 NaN               NaN             NaN           0 nonfemale   \n",
              "2                 NaN               NaN             NaN                   NaN   \n",
              "3                 NaN               NaN             NaN                   NaN   \n",
              "4                 NaN               NaN             NaN           0 nonfemale   \n",
              "\n",
              "  start_date_decision end_date_decision  judgediff  pendency_decision_filing  \\\n",
              "0                 NaN               NaN        NaN                        11   \n",
              "1          2013-06-10        2013-09-23        NaN                        41   \n",
              "2                 NaN               NaN        NaN                        62   \n",
              "3                 NaN               NaN        NaN                         1   \n",
              "4          2011-06-06        2014-02-21        NaN                        30   \n",
              "\n",
              "   pendency_first_filing  pendency_decision_first  pendency_next_last  \\\n",
              "0                    2.0                      9.0                 1.0   \n",
              "1                    1.0                     40.0                 1.0   \n",
              "2                   31.0                     31.0                 1.0   \n",
              "3                    1.0                      0.0                 0.0   \n",
              "4                    1.0                     29.0                 2.0   \n",
              "\n",
              "   pendency_decision_last  pendency_decision_next  \\\n",
              "0                     1.0                     0.0   \n",
              "1                     1.0                     0.0   \n",
              "2                     1.0                     0.0   \n",
              "3                     0.0                     0.0   \n",
              "4                     2.0                     0.0   \n",
              "\n",
              "  pendency_decision_filing_categories pendency_first_filing_categories  \\\n",
              "0                         upto 1 year                      upto 1 year   \n",
              "1                        3 to 4 years                      upto 1 year   \n",
              "2                        5 to 6 years                     2 to 3 years   \n",
              "3                         upto 1 year                      upto 1 year   \n",
              "4                        2 to 3 years                      upto 1 year   \n",
              "\n",
              "   filing_judge_tenure  decision_judge_tenure  \n",
              "0                  NaN                    NaN  \n",
              "1                  NaN                    3.0  \n",
              "2                  NaN                    NaN  \n",
              "3                  NaN                    NaN  \n",
              "4                  NaN                   32.0  "
            ],
            "text/html": [
              "\n",
              "  <div id=\"df-efb11d71-e472-4e34-a5f3-6c3bd9ffff04\">\n",
              "    <div class=\"colab-df-container\">\n",
              "      <div>\n",
              "<style scoped>\n",
              "    .dataframe tbody tr th:only-of-type {\n",
              "        vertical-align: middle;\n",
              "    }\n",
              "\n",
              "    .dataframe tbody tr th {\n",
              "        vertical-align: top;\n",
              "    }\n",
              "\n",
              "    .dataframe thead th {\n",
              "        text-align: right;\n",
              "    }\n",
              "</style>\n",
              "<table border=\"1\" class=\"dataframe\">\n",
              "  <thead>\n",
              "    <tr style=\"text-align: right;\">\n",
              "      <th></th>\n",
              "      <th>ddl_case_id</th>\n",
              "      <th>year</th>\n",
              "      <th>state_code</th>\n",
              "      <th>dist_code</th>\n",
              "      <th>court_no</th>\n",
              "      <th>cino</th>\n",
              "      <th>judge_position</th>\n",
              "      <th>female_defendant</th>\n",
              "      <th>female_petitioner</th>\n",
              "      <th>female_adv_def</th>\n",
              "      <th>female_adv_pet</th>\n",
              "      <th>type_name</th>\n",
              "      <th>purpose_name</th>\n",
              "      <th>disp_name</th>\n",
              "      <th>date_of_filing</th>\n",
              "      <th>date_of_decision</th>\n",
              "      <th>date_first_list</th>\n",
              "      <th>date_last_list</th>\n",
              "      <th>date_next_list</th>\n",
              "      <th>act</th>\n",
              "      <th>section</th>\n",
              "      <th>bailable_ipc</th>\n",
              "      <th>number_sections_ipc</th>\n",
              "      <th>criminal</th>\n",
              "      <th>ddl_filing_judge_id</th>\n",
              "      <th>ddl_decision_judge_id</th>\n",
              "      <th>female_judge_filing</th>\n",
              "      <th>start_date_filing</th>\n",
              "      <th>end_date_filing</th>\n",
              "      <th>female_judge_decision</th>\n",
              "      <th>start_date_decision</th>\n",
              "      <th>end_date_decision</th>\n",
              "      <th>judgediff</th>\n",
              "      <th>pendency_decision_filing</th>\n",
              "      <th>pendency_first_filing</th>\n",
              "      <th>pendency_decision_first</th>\n",
              "      <th>pendency_next_last</th>\n",
              "      <th>pendency_decision_last</th>\n",
              "      <th>pendency_decision_next</th>\n",
              "      <th>pendency_decision_filing_categories</th>\n",
              "      <th>pendency_first_filing_categories</th>\n",
              "      <th>filing_judge_tenure</th>\n",
              "      <th>decision_judge_tenure</th>\n",
              "    </tr>\n",
              "  </thead>\n",
              "  <tbody>\n",
              "    <tr>\n",
              "      <th>0</th>\n",
              "      <td>01-01-01-201908000152010</td>\n",
              "      <td>2010</td>\n",
              "      <td>1</td>\n",
              "      <td>1</td>\n",
              "      <td>1</td>\n",
              "      <td>MHNB030003482010</td>\n",
              "      <td>chief judicial magistrate</td>\n",
              "      <td>0</td>\n",
              "      <td>0 male</td>\n",
              "      <td>-9999</td>\n",
              "      <td>0</td>\n",
              "      <td>1429</td>\n",
              "      <td>4946.0</td>\n",
              "      <td>25</td>\n",
              "      <td>2010-04-20 00:00:00+00:00</td>\n",
              "      <td>2011-03-31 00:00:00+00:00</td>\n",
              "      <td>2010-06-23 00:00:00+00:00</td>\n",
              "      <td>2011-02-28 00:00:00+00:00</td>\n",
              "      <td>2011-03-31 00:00:00+00:00</td>\n",
              "      <td>13504.0</td>\n",
              "      <td>1244334.0</td>\n",
              "      <td>NaN</td>\n",
              "      <td>NaN</td>\n",
              "      <td>0.0</td>\n",
              "      <td>NaN</td>\n",
              "      <td>NaN</td>\n",
              "      <td>NaN</td>\n",
              "      <td>NaN</td>\n",
              "      <td>NaN</td>\n",
              "      <td>NaN</td>\n",
              "      <td>NaN</td>\n",
              "      <td>NaN</td>\n",
              "      <td>NaN</td>\n",
              "      <td>11</td>\n",
              "      <td>2.0</td>\n",
              "      <td>9.0</td>\n",
              "      <td>1.0</td>\n",
              "      <td>1.0</td>\n",
              "      <td>0.0</td>\n",
              "      <td>upto 1 year</td>\n",
              "      <td>upto 1 year</td>\n",
              "      <td>NaN</td>\n",
              "      <td>NaN</td>\n",
              "    </tr>\n",
              "    <tr>\n",
              "      <th>1</th>\n",
              "      <td>01-01-01-201908000242010</td>\n",
              "      <td>2010</td>\n",
              "      <td>1</td>\n",
              "      <td>1</td>\n",
              "      <td>1</td>\n",
              "      <td>MHNB030001272010</td>\n",
              "      <td>chief judicial magistrate</td>\n",
              "      <td>0</td>\n",
              "      <td>1 female</td>\n",
              "      <td>-9999</td>\n",
              "      <td>-9998</td>\n",
              "      <td>1429</td>\n",
              "      <td>3627.0</td>\n",
              "      <td>22</td>\n",
              "      <td>2010-02-11 00:00:00+00:00</td>\n",
              "      <td>2013-07-01 00:00:00+00:00</td>\n",
              "      <td>2010-03-11 00:00:00+00:00</td>\n",
              "      <td>2013-06-12 00:00:00+00:00</td>\n",
              "      <td>2013-07-01 00:00:00+00:00</td>\n",
              "      <td>4759.0</td>\n",
              "      <td>132871.0</td>\n",
              "      <td>NaN</td>\n",
              "      <td>NaN</td>\n",
              "      <td>1.0</td>\n",
              "      <td>NaN</td>\n",
              "      <td>51.0</td>\n",
              "      <td>NaN</td>\n",
              "      <td>NaN</td>\n",
              "      <td>NaN</td>\n",
              "      <td>0 nonfemale</td>\n",
              "      <td>2013-06-10</td>\n",
              "      <td>2013-09-23</td>\n",
              "      <td>NaN</td>\n",
              "      <td>41</td>\n",
              "      <td>1.0</td>\n",
              "      <td>40.0</td>\n",
              "      <td>1.0</td>\n",
              "      <td>1.0</td>\n",
              "      <td>0.0</td>\n",
              "      <td>3 to 4 years</td>\n",
              "      <td>upto 1 year</td>\n",
              "      <td>NaN</td>\n",
              "      <td>3.0</td>\n",
              "    </tr>\n",
              "    <tr>\n",
              "      <th>2</th>\n",
              "      <td>01-01-01-201908000702010</td>\n",
              "      <td>2010</td>\n",
              "      <td>1</td>\n",
              "      <td>1</td>\n",
              "      <td>1</td>\n",
              "      <td>MHNB030014152010</td>\n",
              "      <td>chief judicial magistrate</td>\n",
              "      <td>0</td>\n",
              "      <td>0 male</td>\n",
              "      <td>0</td>\n",
              "      <td>1</td>\n",
              "      <td>1429</td>\n",
              "      <td>509.0</td>\n",
              "      <td>25</td>\n",
              "      <td>2010-05-28 00:00:00+00:00</td>\n",
              "      <td>2015-07-27 00:00:00+00:00</td>\n",
              "      <td>2012-12-24 00:00:00+00:00</td>\n",
              "      <td>2015-06-19 00:00:00+00:00</td>\n",
              "      <td>2015-07-27 00:00:00+00:00</td>\n",
              "      <td>9533.0</td>\n",
              "      <td>1166313.0</td>\n",
              "      <td>NaN</td>\n",
              "      <td>NaN</td>\n",
              "      <td>0.0</td>\n",
              "      <td>NaN</td>\n",
              "      <td>NaN</td>\n",
              "      <td>NaN</td>\n",
              "      <td>NaN</td>\n",
              "      <td>NaN</td>\n",
              "      <td>NaN</td>\n",
              "      <td>NaN</td>\n",
              "      <td>NaN</td>\n",
              "      <td>NaN</td>\n",
              "      <td>62</td>\n",
              "      <td>31.0</td>\n",
              "      <td>31.0</td>\n",
              "      <td>1.0</td>\n",
              "      <td>1.0</td>\n",
              "      <td>0.0</td>\n",
              "      <td>5 to 6 years</td>\n",
              "      <td>2 to 3 years</td>\n",
              "      <td>NaN</td>\n",
              "      <td>NaN</td>\n",
              "    </tr>\n",
              "    <tr>\n",
              "      <th>3</th>\n",
              "      <td>01-01-01-201908001322010</td>\n",
              "      <td>2010</td>\n",
              "      <td>1</td>\n",
              "      <td>1</td>\n",
              "      <td>1</td>\n",
              "      <td>MHNB030009002010</td>\n",
              "      <td>chief judicial magistrate</td>\n",
              "      <td>-9998</td>\n",
              "      <td>1 female</td>\n",
              "      <td>0</td>\n",
              "      <td>0</td>\n",
              "      <td>1429</td>\n",
              "      <td>2237.0</td>\n",
              "      <td>25</td>\n",
              "      <td>2010-08-31 00:00:00+00:00</td>\n",
              "      <td>2010-09-09 00:00:00+00:00</td>\n",
              "      <td>2010-09-03 00:00:00+00:00</td>\n",
              "      <td>2010-09-06 00:00:00+00:00</td>\n",
              "      <td>2010-09-09 00:00:00+00:00</td>\n",
              "      <td>4759.0</td>\n",
              "      <td>1123673.0</td>\n",
              "      <td>NaN</td>\n",
              "      <td>NaN</td>\n",
              "      <td>1.0</td>\n",
              "      <td>NaN</td>\n",
              "      <td>NaN</td>\n",
              "      <td>NaN</td>\n",
              "      <td>NaN</td>\n",
              "      <td>NaN</td>\n",
              "      <td>NaN</td>\n",
              "      <td>NaN</td>\n",
              "      <td>NaN</td>\n",
              "      <td>NaN</td>\n",
              "      <td>1</td>\n",
              "      <td>1.0</td>\n",
              "      <td>0.0</td>\n",
              "      <td>0.0</td>\n",
              "      <td>0.0</td>\n",
              "      <td>0.0</td>\n",
              "      <td>upto 1 year</td>\n",
              "      <td>upto 1 year</td>\n",
              "      <td>NaN</td>\n",
              "      <td>NaN</td>\n",
              "    </tr>\n",
              "    <tr>\n",
              "      <th>4</th>\n",
              "      <td>01-01-01-201908001572010</td>\n",
              "      <td>2010</td>\n",
              "      <td>1</td>\n",
              "      <td>1</td>\n",
              "      <td>1</td>\n",
              "      <td>MHNB030010732010</td>\n",
              "      <td>chief judicial magistrate</td>\n",
              "      <td>0</td>\n",
              "      <td>1 female</td>\n",
              "      <td>-9999</td>\n",
              "      <td>0</td>\n",
              "      <td>1429</td>\n",
              "      <td>3280.0</td>\n",
              "      <td>30</td>\n",
              "      <td>2010-11-12 00:00:00+00:00</td>\n",
              "      <td>2013-05-13 00:00:00+00:00</td>\n",
              "      <td>2010-12-13 00:00:00+00:00</td>\n",
              "      <td>2013-03-26 00:00:00+00:00</td>\n",
              "      <td>2013-05-13 00:00:00+00:00</td>\n",
              "      <td>4759.0</td>\n",
              "      <td>132871.0</td>\n",
              "      <td>NaN</td>\n",
              "      <td>NaN</td>\n",
              "      <td>1.0</td>\n",
              "      <td>NaN</td>\n",
              "      <td>92.0</td>\n",
              "      <td>NaN</td>\n",
              "      <td>NaN</td>\n",
              "      <td>NaN</td>\n",
              "      <td>0 nonfemale</td>\n",
              "      <td>2011-06-06</td>\n",
              "      <td>2014-02-21</td>\n",
              "      <td>NaN</td>\n",
              "      <td>30</td>\n",
              "      <td>1.0</td>\n",
              "      <td>29.0</td>\n",
              "      <td>2.0</td>\n",
              "      <td>2.0</td>\n",
              "      <td>0.0</td>\n",
              "      <td>2 to 3 years</td>\n",
              "      <td>upto 1 year</td>\n",
              "      <td>NaN</td>\n",
              "      <td>32.0</td>\n",
              "    </tr>\n",
              "  </tbody>\n",
              "</table>\n",
              "</div>\n",
              "      <button class=\"colab-df-convert\" onclick=\"convertToInteractive('df-efb11d71-e472-4e34-a5f3-6c3bd9ffff04')\"\n",
              "              title=\"Convert this dataframe to an interactive table.\"\n",
              "              style=\"display:none;\">\n",
              "        \n",
              "  <svg xmlns=\"http://www.w3.org/2000/svg\" height=\"24px\"viewBox=\"0 0 24 24\"\n",
              "       width=\"24px\">\n",
              "    <path d=\"M0 0h24v24H0V0z\" fill=\"none\"/>\n",
              "    <path d=\"M18.56 5.44l.94 2.06.94-2.06 2.06-.94-2.06-.94-.94-2.06-.94 2.06-2.06.94zm-11 1L8.5 8.5l.94-2.06 2.06-.94-2.06-.94L8.5 2.5l-.94 2.06-2.06.94zm10 10l.94 2.06.94-2.06 2.06-.94-2.06-.94-.94-2.06-.94 2.06-2.06.94z\"/><path d=\"M17.41 7.96l-1.37-1.37c-.4-.4-.92-.59-1.43-.59-.52 0-1.04.2-1.43.59L10.3 9.45l-7.72 7.72c-.78.78-.78 2.05 0 2.83L4 21.41c.39.39.9.59 1.41.59.51 0 1.02-.2 1.41-.59l7.78-7.78 2.81-2.81c.8-.78.8-2.07 0-2.86zM5.41 20L4 18.59l7.72-7.72 1.47 1.35L5.41 20z\"/>\n",
              "  </svg>\n",
              "      </button>\n",
              "      \n",
              "  <style>\n",
              "    .colab-df-container {\n",
              "      display:flex;\n",
              "      flex-wrap:wrap;\n",
              "      gap: 12px;\n",
              "    }\n",
              "\n",
              "    .colab-df-convert {\n",
              "      background-color: #E8F0FE;\n",
              "      border: none;\n",
              "      border-radius: 50%;\n",
              "      cursor: pointer;\n",
              "      display: none;\n",
              "      fill: #1967D2;\n",
              "      height: 32px;\n",
              "      padding: 0 0 0 0;\n",
              "      width: 32px;\n",
              "    }\n",
              "\n",
              "    .colab-df-convert:hover {\n",
              "      background-color: #E2EBFA;\n",
              "      box-shadow: 0px 1px 2px rgba(60, 64, 67, 0.3), 0px 1px 3px 1px rgba(60, 64, 67, 0.15);\n",
              "      fill: #174EA6;\n",
              "    }\n",
              "\n",
              "    [theme=dark] .colab-df-convert {\n",
              "      background-color: #3B4455;\n",
              "      fill: #D2E3FC;\n",
              "    }\n",
              "\n",
              "    [theme=dark] .colab-df-convert:hover {\n",
              "      background-color: #434B5C;\n",
              "      box-shadow: 0px 1px 3px 1px rgba(0, 0, 0, 0.15);\n",
              "      filter: drop-shadow(0px 1px 2px rgba(0, 0, 0, 0.3));\n",
              "      fill: #FFFFFF;\n",
              "    }\n",
              "  </style>\n",
              "\n",
              "      <script>\n",
              "        const buttonEl =\n",
              "          document.querySelector('#df-efb11d71-e472-4e34-a5f3-6c3bd9ffff04 button.colab-df-convert');\n",
              "        buttonEl.style.display =\n",
              "          google.colab.kernel.accessAllowed ? 'block' : 'none';\n",
              "\n",
              "        async function convertToInteractive(key) {\n",
              "          const element = document.querySelector('#df-efb11d71-e472-4e34-a5f3-6c3bd9ffff04');\n",
              "          const dataTable =\n",
              "            await google.colab.kernel.invokeFunction('convertToInteractive',\n",
              "                                                     [key], {});\n",
              "          if (!dataTable) return;\n",
              "\n",
              "          const docLinkHtml = 'Like what you see? Visit the ' +\n",
              "            '<a target=\"_blank\" href=https://colab.research.google.com/notebooks/data_table.ipynb>data table notebook</a>'\n",
              "            + ' to learn more about interactive tables.';\n",
              "          element.innerHTML = '';\n",
              "          dataTable['output_type'] = 'display_data';\n",
              "          await google.colab.output.renderOutput(dataTable, element);\n",
              "          const docLink = document.createElement('div');\n",
              "          docLink.innerHTML = docLinkHtml;\n",
              "          element.appendChild(docLink);\n",
              "        }\n",
              "      </script>\n",
              "    </div>\n",
              "  </div>\n",
              "  "
            ]
          },
          "metadata": {},
          "execution_count": 4
        }
      ],
      "source": [
        "20# Download the dataset from the zip file and keep the file case_2010_final.csv it on your google drive.\n",
        "# You would have to change path below appropriately to load and run the below line of code.\n",
        "df_cases2010_orig = pd.read_csv(\"/content/drive/MyDrive/Law/cases/2010/cases_2010_final.csv\")\n",
        "#print all columns\n",
        "pd.set_option('display.max_columns', None)\n",
        "df_cases2010_orig.head()"
      ]
    },
    {
      "cell_type": "code",
      "execution_count": null,
      "metadata": {
        "colab": {
          "base_uri": "https://localhost:8080/"
        },
        "id": "7JD_Ubl6T5St",
        "outputId": "f2832081-c707-44e9-8709-d5bcc7d0c9dc"
      },
      "outputs": [
        {
          "data": {
            "text/plain": [
              "ddl_case_id                             object\n",
              "year                                     int64\n",
              "state_code                               int64\n",
              "dist_code                                int64\n",
              "court_no                                 int64\n",
              "cino                                    object\n",
              "judge_position                          object\n",
              "female_defendant                         int64\n",
              "female_petitioner                       object\n",
              "female_adv_def                           int64\n",
              "female_adv_pet                           int64\n",
              "type_name                                int64\n",
              "purpose_name                           float64\n",
              "disp_name                                int64\n",
              "date_of_filing                          object\n",
              "date_of_decision                        object\n",
              "date_first_list                         object\n",
              "date_last_list                          object\n",
              "date_next_list                          object\n",
              "act                                    float64\n",
              "section                                float64\n",
              "bailable_ipc                            object\n",
              "number_sections_ipc                    float64\n",
              "criminal                               float64\n",
              "ddl_filing_judge_id                    float64\n",
              "ddl_decision_judge_id                  float64\n",
              "female_judge_filing                     object\n",
              "start_date_filing                       object\n",
              "end_date_filing                         object\n",
              "female_judge_decision                   object\n",
              "start_date_decision                     object\n",
              "end_date_decision                       object\n",
              "judgediff                              float64\n",
              "pendency_decision_filing                 int64\n",
              "pendency_first_filing                  float64\n",
              "pendency_decision_first                float64\n",
              "pendency_next_last                     float64\n",
              "pendency_decision_last                 float64\n",
              "pendency_decision_next                 float64\n",
              "pendency_decision_filing_categories     object\n",
              "pendency_first_filing_categories        object\n",
              "filing_judge_tenure                    float64\n",
              "decision_judge_tenure                  float64\n",
              "dtype: object"
            ]
          },
          "execution_count": 5,
          "metadata": {},
          "output_type": "execute_result"
        }
      ],
      "source": [
        "df_cases2010_orig.dtypes"
      ]
    },
    {
      "cell_type": "markdown",
      "metadata": {
        "id": "jWhVgsTDOwN2"
      },
      "source": [
        "## Preprocessing & Feature Engineering"
      ]
    },
    {
      "cell_type": "code",
      "execution_count": null,
      "metadata": {
        "colab": {
          "base_uri": "https://localhost:8080/"
        },
        "id": "U0XpwncE8f8c",
        "outputId": "63a2cade-03ec-4307-ba02-81d96da33f08"
      },
      "outputs": [
        {
          "name": "stdout",
          "output_type": "stream",
          "text": [
            "Column 'ddl_case_id' has 0 missing values which is 0% of total\n",
            "Column 'year' has 0 missing values which is 0% of total\n",
            "Column 'state_code' has 0 missing values which is 0% of total\n",
            "Column 'dist_code' has 0 missing values which is 0% of total\n",
            "Column 'court_no' has 0 missing values which is 0% of total\n",
            "Column 'cino' has 0 missing values which is 0% of total\n",
            "Column 'judge_position' has 0 missing values which is 0% of total\n",
            "Column 'female_defendant' has 0 missing values which is 0% of total\n",
            "Column 'female_petitioner' has 0 missing values which is 0% of total\n",
            "Column 'female_adv_def' has 0 missing values which is 0% of total\n",
            "Column 'female_adv_pet' has 0 missing values which is 0% of total\n",
            "Column 'type_name' has 0 missing values which is 0% of total\n",
            "Column 'purpose_name' has 233545 missing values which is 6% of total\n",
            "Column 'disp_name' has 0 missing values which is 0% of total\n",
            "Column 'date_of_filing' has 0 missing values which is 0% of total\n",
            "Column 'date_of_decision' has 570401 missing values which is 14% of total\n",
            "Column 'date_first_list' has 279548 missing values which is 7% of total\n",
            "Column 'date_last_list' has 158263 missing values which is 4% of total\n",
            "Column 'date_next_list' has 157923 missing values which is 4% of total\n",
            "Column 'act' has 2054999 missing values which is 49% of total\n",
            "Column 'section' has 2298209 missing values which is 55% of total\n",
            "Column 'bailable_ipc' has 3739286 missing values which is 89% of total\n",
            "Column 'number_sections_ipc' has 3515887 missing values which is 84% of total\n",
            "Column 'criminal' has 2054885 missing values which is 49% of total\n",
            "Column 'ddl_filing_judge_id' has 4101239 missing values which is 98% of total\n",
            "Column 'ddl_decision_judge_id' has 3916281 missing values which is 93% of total\n",
            "Column 'female_judge_filing' has 4101239 missing values which is 98% of total\n",
            "Column 'start_date_filing' has 4101239 missing values which is 98% of total\n",
            "Column 'end_date_filing' has 4101275 missing values which is 98% of total\n",
            "Column 'female_judge_decision' has 3916281 missing values which is 93% of total\n",
            "Column 'start_date_decision' has 3916281 missing values which is 93% of total\n",
            "Column 'end_date_decision' has 3994646 missing values which is 95% of total\n",
            "Column 'judgediff' has 4107182 missing values which is 98% of total\n",
            "Column 'pendency_decision_filing' has 0 missing values which is 0% of total\n",
            "Column 'pendency_first_filing' has 279548 missing values which is 7% of total\n",
            "Column 'pendency_decision_first' has 837324 missing values which is 20% of total\n",
            "Column 'pendency_next_last' has 163977 missing values which is 4% of total\n",
            "Column 'pendency_decision_last' has 719910 missing values which is 17% of total\n",
            "Column 'pendency_decision_next' has 719205 missing values which is 17% of total\n",
            "Column 'pendency_decision_filing_categories' has 0 missing values which is 0% of total\n",
            "Column 'pendency_first_filing_categories' has 279548 missing values which is 7% of total\n",
            "Column 'filing_judge_tenure' has 4101275 missing values which is 98% of total\n",
            "Column 'decision_judge_tenure' has 3994646 missing values which is 95% of total\n"
          ]
        }
      ],
      "source": [
        "missing_values = df_cases2010_orig.isna().sum()\n",
        "total_rows = df_cases2010_orig.shape[0]\n",
        "# print column names and number of missing values\n",
        "for col, num_missing in missing_values.items():\n",
        "    percent_missing = round(num_missing/total_rows*100)\n",
        "    print(f\"Column '{col}' has {num_missing} missing values which is {percent_missing}% of total\")"
      ]
    },
    {
      "cell_type": "markdown",
      "metadata": {
        "id": "9hGp--fAjETh"
      },
      "source": [
        "We will drop following features as for year 2010 the majority of data about the filling and decision judges is missing\n",
        "\n",
        "* ddl_filing_judge_id\n",
        "* ddl_decision_judge_id\n",
        "* start_date_filing\n",
        "* end_date_filing\n",
        "* start_date_decision\n",
        "* end_date_decision\n",
        "* judgediff\n",
        "* filing_judge_tenure             \n",
        "* decision_judge_tenure    \n",
        "* purpose_name\n",
        "\n",
        "\n",
        "The following are dropped as these dates are converted into categorical variables as periods\n",
        "\n",
        "* date_of_filing                       \n",
        "* date_of_decision                    \n",
        "* date_first_list                    \n",
        "* date_last_list                        \n",
        "* date_next_list\n",
        "\n",
        "The following are dropped as they are just identifiers\n",
        "\n",
        "* ddl_case_id                            \n",
        "* year\n",
        "* cino\n",
        "\n",
        "These variables are not included as features for our modelling as they will not be available when the model will be used for prediction or deemed not important*\n",
        "\n",
        "* disp_name\n",
        "* pendency_first_filing\n",
        "* pendency_decision_first\n",
        "* pendency_decision_last\n",
        "* pendency_decision_filing\n",
        "* pendency_decision_next\n",
        "* pendency_next_last"
      ]
    },
    {
      "cell_type": "code",
      "execution_count": null,
      "metadata": {
        "id": "fOJumjHajwIk"
      },
      "outputs": [],
      "source": [
        "df_cases2010_orig[\"court_details\"] = df_cases2010_orig[\"state_code\"].astype(str) + \"_\" + df_cases2010_orig[\"dist_code\"].astype(str) + \"_\" + df_cases2010_orig[\"court_no\"].astype(str)\n",
        "\n",
        "df_cases2010_orig[\"state_district\"] = df_cases2010_orig[\"state_code\"].astype(str) + \"_\" + df_cases2010_orig[\"dist_code\"].astype(str)"
      ]
    },
    {
      "cell_type": "code",
      "execution_count": null,
      "metadata": {
        "id": "IcAkm9wG_U_O"
      },
      "outputs": [],
      "source": [
        "columns_to_drop = ['ddl_filing_judge_id','ddl_decision_judge_id','start_date_filing','end_date_filing','start_date_decision','end_date_decision',\\\n",
        "                   'judgediff','filing_judge_tenure','decision_judge_tenure','date_of_filing','date_of_decision','date_first_list','date_last_list','date_next_list','disp_name',\\\n",
        "                   'pendency_decision_first','pendency_decision_first','pendency_decision_last', 'pendency_decision_next','pendency_first_filing', \\\n",
        "                   'pendency_next_last','ddl_case_id','year','cino','court_no','dist_code','pendency_first_filing_categories','purpose_name']\n",
        "\n",
        "\n",
        "# Create a copy of the dataframe and start preparing the same for prediction modelling\n",
        "df_cases2010 = df_cases2010_orig.drop(columns=columns_to_drop, axis=1)\n"
      ]
    },
    {
      "cell_type": "code",
      "execution_count": null,
      "metadata": {
        "colab": {
          "base_uri": "https://localhost:8080/"
        },
        "id": "cM9gfCrLaddR",
        "outputId": "6d15c23f-0072-4be7-96b5-4501acde2aec"
      },
      "outputs": [
        {
          "name": "stdout",
          "output_type": "stream",
          "text": [
            "<class 'pandas.core.frame.DataFrame'>\n",
            "RangeIndex: 4190783 entries, 0 to 4190782\n",
            "Data columns (total 18 columns):\n",
            " #   Column                               Dtype  \n",
            "---  ------                               -----  \n",
            " 0   state_code                           int64  \n",
            " 1   judge_position                       object \n",
            " 2   female_defendant                     int64  \n",
            " 3   female_petitioner                    object \n",
            " 4   female_adv_def                       int64  \n",
            " 5   female_adv_pet                       int64  \n",
            " 6   type_name                            int64  \n",
            " 7   act                                  float64\n",
            " 8   section                              float64\n",
            " 9   bailable_ipc                         object \n",
            " 10  number_sections_ipc                  float64\n",
            " 11  criminal                             float64\n",
            " 12  female_judge_filing                  object \n",
            " 13  female_judge_decision                object \n",
            " 14  pendency_decision_filing             int64  \n",
            " 15  pendency_decision_filing_categories  object \n",
            " 16  court_details                        object \n",
            " 17  state_district                       object \n",
            "dtypes: float64(4), int64(6), object(8)\n",
            "memory usage: 575.5+ MB\n"
          ]
        }
      ],
      "source": [
        "df_cases2010.info()"
      ]
    },
    {
      "cell_type": "code",
      "execution_count": null,
      "metadata": {
        "id": "4_upqghOj4u2"
      },
      "outputs": [],
      "source": [
        "df_cases2010 = df_cases2010.fillna(\"NA\")"
      ]
    },
    {
      "cell_type": "code",
      "execution_count": null,
      "metadata": {
        "id": "dc-HTouChhDX"
      },
      "outputs": [],
      "source": [
        "# Convert all other features to categorical except pendency_first_filing which is numerical\n",
        "# number_sections_ipc is treated as categorical as it has lots of missing values which is better handled as categorical data\n",
        "df_cases2010['state_code'] = df_cases2010['state_code'].astype(str).astype('category')\n",
        "df_cases2010['state_district'] = df_cases2010['state_district'].astype(str).astype('category')\n",
        "df_cases2010['court_details'] = df_cases2010['court_details'].astype(str).astype('category')\n",
        "df_cases2010['judge_position'] = df_cases2010['judge_position'].astype(str).astype('category')\n",
        "df_cases2010['female_defendant'] = df_cases2010['female_defendant'].astype(str).astype('category')\n",
        "df_cases2010['female_petitioner'] = df_cases2010['female_petitioner'].astype(str).astype('category')\n",
        "df_cases2010['female_adv_def'] = df_cases2010['female_adv_def'].astype(str).astype('category')\n",
        "df_cases2010['female_adv_pet'] = df_cases2010['female_adv_pet'].astype(str).astype('category')\n",
        "df_cases2010['type_name'] = df_cases2010['type_name'].astype(str).astype('category')\n",
        "df_cases2010['act'] = df_cases2010['act'].astype(str).astype('category')\n",
        "df_cases2010['section'] = df_cases2010['section'].astype(str).astype('category')\n",
        "df_cases2010['bailable_ipc'] = df_cases2010['bailable_ipc'].astype(str).astype('category')\n",
        "df_cases2010['number_sections_ipc'] = df_cases2010['number_sections_ipc'].astype(str).astype('category')\n",
        "df_cases2010['criminal'] = df_cases2010['criminal'].astype(str).astype('category')\n",
        "df_cases2010['female_judge_filing'] = df_cases2010['female_judge_filing'].astype(str).astype('category')\n",
        "df_cases2010['female_judge_decision'] = df_cases2010['female_judge_decision'].astype(str).astype('category')\n",
        "df_cases2010['pendency_decision_filing_categories'] = df_cases2010['pendency_decision_filing_categories'].astype(str).astype('category')"
      ]
    },
    {
      "cell_type": "code",
      "execution_count": null,
      "metadata": {
        "id": "4kYhkp6_kCPq"
      },
      "outputs": [],
      "source": [
        "df_cases2010 = df_cases2010[df_cases2010['pendency_decision_filing_categories'] != 'Undecided']"
      ]
    },
    {
      "cell_type": "code",
      "execution_count": null,
      "metadata": {
        "colab": {
          "base_uri": "https://localhost:8080/"
        },
        "id": "U2GiN58skE24",
        "outputId": "8991af09-c97b-4ed4-b9aa-75a22704c71c"
      },
      "outputs": [
        {
          "name": "stdout",
          "output_type": "stream",
          "text": [
            "Mean values:\n",
            " 36.2776519162895\n",
            "\n",
            "Median values:\n",
            " 31.0\n",
            "\n",
            "75th Percentile:\n",
            " 56.0\n"
          ]
        }
      ],
      "source": [
        "mean_vals = df_cases2010['pendency_decision_filing'].mean()\n",
        "median_vals = df_cases2010['pendency_decision_filing'].median()\n",
        "percentile_75th = np.percentile(df_cases2010['pendency_decision_filing'], 75)\n",
        "\n",
        "print(\"Mean values:\\n\", mean_vals)\n",
        "print(\"\\nMedian values:\\n\", median_vals)\n",
        "print(\"\\n75th Percentile:\\n\", percentile_75th)"
      ]
    },
    {
      "cell_type": "code",
      "execution_count": null,
      "metadata": {
        "colab": {
          "base_uri": "https://localhost:8080/"
        },
        "id": "0VbNIU-4kIiz",
        "outputId": "261773df-fb22-4225-cca2-f4dbb2eb81d6"
      },
      "outputs": [
        {
          "output_type": "stream",
          "name": "stdout",
          "text": [
            "<bound method ExtensionArray.tolist of ['upto 1 year', '3 to 4 years', '5 to 6 years', '2 to 3 years', '4 to 5 years', ..., '6 to 7 years', '7 to 8 years', '8 to 9 years', '9 to 10 years', '10 to 11 years']\n",
            "Length: 11\n",
            "Categories (12, object): ['1 to 2 years', '10 to 11 years', '2 to 3 years', '3 to 4 years', ...,\n",
            "                          '8 to 9 years', '9 to 10 years', 'Undecided', 'upto 1 year']>\n"
          ]
        }
      ],
      "source": [
        "print(df_cases2010['pendency_decision_filing_categories'].unique().tolist)"
      ]
    },
    {
      "cell_type": "code",
      "execution_count": null,
      "metadata": {
        "id": "LHkDH3VH2hGW"
      },
      "outputs": [],
      "source": [
        "# create columns for binary classification problem\n",
        "mapping_three = {'upto 1 year': 'less_three' ,'1 to 2 years': 'less_three', '2 to 3 years': 'less_three','3 to 4 years': 'three_plus','4 to 5 years': 'three_plus', '5 to 6 years': 'three_plus','6 to 7 years': 'three_plus', '7 to 8 years': 'three_plus','8 to 9 years': 'three_plus', '9 to 10 years': 'three_plus',  '10 to 11 years': 'three_plus','upto 1 year': 'less_three' }\n",
        "df_cases2010['pendency_model_threeyear'] =df_cases2010['pendency_decision_filing_categories'].replace(mapping_three)\n",
        "df_cases2010['pendency_model_threeyear'] = df_cases2010['pendency_model_threeyear'].astype(str).astype('category')\n"
      ]
    },
    {
      "cell_type": "code",
      "execution_count": null,
      "metadata": {
        "colab": {
          "base_uri": "https://localhost:8080/"
        },
        "id": "KR5-6nKG5pZy",
        "outputId": "7384142e-9589-444e-c521-1a3b758dd31c"
      },
      "outputs": [
        {
          "name": "stdout",
          "output_type": "stream",
          "text": [
            "<class 'pandas.core.frame.DataFrame'>\n",
            "Int64Index: 3620382 entries, 0 to 4190782\n",
            "Data columns (total 19 columns):\n",
            " #   Column                               Dtype   \n",
            "---  ------                               -----   \n",
            " 0   state_code                           category\n",
            " 1   judge_position                       category\n",
            " 2   female_defendant                     category\n",
            " 3   female_petitioner                    category\n",
            " 4   female_adv_def                       category\n",
            " 5   female_adv_pet                       category\n",
            " 6   type_name                            category\n",
            " 7   act                                  category\n",
            " 8   section                              category\n",
            " 9   bailable_ipc                         category\n",
            " 10  number_sections_ipc                  category\n",
            " 11  criminal                             category\n",
            " 12  female_judge_filing                  category\n",
            " 13  female_judge_decision                category\n",
            " 14  pendency_decision_filing             int64   \n",
            " 15  pendency_decision_filing_categories  category\n",
            " 16  court_details                        category\n",
            " 17  state_district                       category\n",
            " 18  pendency_model_threeyear             category\n",
            "dtypes: category(18), int64(1)\n",
            "memory usage: 150.4 MB\n"
          ]
        }
      ],
      "source": [
        "df_cases2010.info()"
      ]
    },
    {
      "cell_type": "code",
      "execution_count": null,
      "metadata": {
        "id": "ptL9G2n7c0F8"
      },
      "outputs": [],
      "source": [
        "y = df_cases2010[\"pendency_model_threeyear\"]"
      ]
    },
    {
      "cell_type": "code",
      "execution_count": null,
      "metadata": {
        "id": "xcuWn5xyd2tg"
      },
      "outputs": [],
      "source": [
        "col = pd.Categorical(y)\n",
        "y = pd.Series(col.codes)\n",
        "y_class = col.categories.tolist()"
      ]
    },
    {
      "cell_type": "code",
      "execution_count": null,
      "metadata": {
        "id": "VbHLc-owUxvK"
      },
      "outputs": [],
      "source": [
        "#We next drop the target variables from the feature matrix\n",
        "df_cases2010.drop(columns='pendency_decision_filing', axis=1, inplace=True)\n",
        "df_cases2010.drop(columns='pendency_decision_filing_categories', axis=1, inplace=True)\n",
        "df_cases2010.drop(columns='pendency_model_threeyear', axis=1, inplace=True)"
      ]
    },
    {
      "cell_type": "code",
      "execution_count": null,
      "metadata": {
        "id": "b5RIJA7TrpuJ"
      },
      "outputs": [],
      "source": [
        "# Lable Encode all Categorical Features\n",
        "le = LabelEncoder()\n",
        "cat_cols = df_cases2010.select_dtypes(include=['category']).columns\n",
        "df_cases2010[cat_cols] = df_cases2010[cat_cols].apply(lambda col: le.fit_transform(col))"
      ]
    },
    {
      "cell_type": "markdown",
      "metadata": {
        "id": "XFhXMIMO8irw"
      },
      "source": [
        "## Model Building"
      ]
    },
    {
      "cell_type": "markdown",
      "metadata": {
        "id": "U5Rs5nkxxK4Z"
      },
      "source": [
        "### Train Test Split"
      ]
    },
    {
      "cell_type": "code",
      "execution_count": null,
      "metadata": {
        "id": "Q4PHacVZxKcU"
      },
      "outputs": [],
      "source": [
        "# Random seed\n",
        "seed =100\n",
        "# split-out train/validation and test dataset\n",
        "X_train, X_test, y_train, y_test = train_test_split(df_cases2010,  y, test_size=0.20, random_state=seed, shuffle=True, stratify=y)\n"
      ]
    },
    {
      "cell_type": "code",
      "execution_count": null,
      "metadata": {
        "colab": {
          "base_uri": "https://localhost:8080/"
        },
        "id": "rsHsG0-x7f3O",
        "outputId": "553c202d-b4a6-4865-9fe2-91ba47b6cb06"
      },
      "outputs": [
        {
          "output_type": "stream",
          "name": "stdout",
          "text": [
            "4190783\n",
            "2896305\n",
            "724077\n",
            "3620382\n",
            "86.38915448497333\n"
          ]
        }
      ],
      "source": [
        "# Training and Test Data Size\n",
        "print(df_cases2010_orig.shape[0])\n",
        "print(X_train.shape[0])\n",
        "print(X_test.shape[0])\n",
        "print(X_test.shape[0]+X_train.shape[0])\n",
        "print((X_test.shape[0]+X_train.shape[0])/df_cases2010_orig.shape[0]*100)"
      ]
    },
    {
      "cell_type": "markdown",
      "metadata": {
        "id": "vlZyq9SZC2oI"
      },
      "source": [
        "### DecisionTree Classifiers  ( Baseline Model )\n"
      ]
    },
    {
      "cell_type": "code",
      "execution_count": null,
      "metadata": {
        "colab": {
          "base_uri": "https://localhost:8080/"
        },
        "id": "aaPDssrUL1qT",
        "outputId": "af19d733-567e-41f2-8e38-48e3d3ca718b"
      },
      "outputs": [
        {
          "name": "stdout",
          "output_type": "stream",
          "text": [
            "Accuracy : 0.7379104708477137\n",
            "Classification report :\n",
            "               precision    recall  f1-score   support\n",
            "\n",
            "  less_three       0.74      0.83      0.78    407627\n",
            "  three_plus       0.74      0.62      0.67    316450\n",
            "\n",
            "    accuracy                           0.74    724077\n",
            "   macro avg       0.74      0.72      0.73    724077\n",
            "weighted avg       0.74      0.74      0.73    724077\n",
            "\n",
            "Log Los: 0.5243180576195146\n",
            "ROC AUC: 0.7244867201888228\n",
            "PR AUC: 0.32518873037341334\n"
          ]
        }
      ],
      "source": [
        "# Train a Decision Tree Classifier for binary classification of six year or more\n",
        "# max_depth is set to avoid overfitting and ensure probalistic output from predict_proba which is used to calculate log_loss\n",
        "dt = DecisionTreeClassifier(random_state=seed, max_depth = 10)\n",
        "dt.fit(X_train, y_train)\n",
        "\n",
        "# Predict the target values for the test set\n",
        "y_pred = dt.predict(X_test)\n",
        "\n",
        "# Evaluate the classifier's performance\n",
        "accuracy = accuracy_score(y_test, y_pred)\n",
        "print(\"Accuracy :\", accuracy)\n",
        "print(\"Classification report :\\n\", classification_report(y_test, y_pred, target_names = y_class))\n",
        "# Calculate Log Loss\n",
        "logloss = log_loss(y_test, dt.predict_proba(X_test))\n",
        "print(\"Log Los:\", logloss)\n",
        "#Calculate AUC and plot ROC curve\n",
        "print(\"ROC AUC:\",roc_auc_score(y_test, y_pred))\n",
        "fpr, tpr, treshold = precision_recall_curve(y_test, y_pred)\n",
        "pr_roc_auc = auc(fpr, tpr)\n",
        "print(\"PR AUC:\",pr_roc_auc)"
      ]
    },
    {
      "cell_type": "markdown",
      "metadata": {
        "id": "bTTMKnvApFKg"
      },
      "source": [
        "### Bagging Tree Classifiers"
      ]
    },
    {
      "cell_type": "code",
      "execution_count": null,
      "metadata": {
        "colab": {
          "base_uri": "https://localhost:8080/"
        },
        "id": "Gtihe6RIwate",
        "outputId": "b3ad6e1b-f19f-4ee0-8bf1-0a6e328e143a"
      },
      "outputs": [
        {
          "name": "stdout",
          "output_type": "stream",
          "text": [
            "Accuracy : 0.8117396354255141\n",
            "Classification report :\n",
            "               precision    recall  f1-score   support\n",
            "\n",
            "  less_three       0.83      0.84      0.83    407627\n",
            "  three_plus       0.79      0.77      0.78    316450\n",
            "\n",
            "    accuracy                           0.81    724077\n",
            "   macro avg       0.81      0.81      0.81    724077\n",
            "weighted avg       0.81      0.81      0.81    724077\n",
            "\n",
            "Log Los: 0.8900483890428973\n",
            "ROC AUC: 0.807602181585274\n",
            "PR AUC: 0.394731954598174\n"
          ]
        }
      ],
      "source": [
        "# Train a Bagging Tree Classifier for binary classification of six year or more\n",
        "dtbag = BaggingClassifier(random_state=seed)\n",
        "dtbag.fit(X_train, y_train)\n",
        "\n",
        "# Predict the target values for the test set\n",
        "y_pred = dtbag.predict(X_test)\n",
        "\n",
        "# Evaluate the classifier's performance\n",
        "accuracy = accuracy_score(y_test, y_pred)\n",
        "print(\"Accuracy :\", accuracy)\n",
        "print(\"Classification report :\\n\", classification_report(y_test, y_pred, target_names = y_class))\n",
        "# Calculate Log Loss\n",
        "logloss = log_loss(y_test, dtbag.predict_proba(X_test))\n",
        "print(\"Log Los:\", logloss)\n",
        "#Calculate AUC and plot ROC curve\n",
        "print(\"ROC AUC:\",roc_auc_score(y_test, y_pred))\n",
        "fpr, tpr, treshold = precision_recall_curve(y_test, y_pred)\n",
        "pr_roc_auc = auc(fpr, tpr)\n",
        "print(\"PR AUC:\",pr_roc_auc)"
      ]
    },
    {
      "cell_type": "markdown",
      "metadata": {
        "id": "ILUd90Iuqhzj"
      },
      "source": [
        "### XGBoost Classifier"
      ]
    },
    {
      "cell_type": "code",
      "execution_count": null,
      "metadata": {
        "colab": {
          "background_save": true,
          "base_uri": "https://localhost:8080/"
        },
        "id": "ChWmjMLpxe_M",
        "outputId": "77bc5d2c-0708-4143-b4de-a357d8ce848e"
      },
      "outputs": [
        {
          "name": "stderr",
          "output_type": "stream",
          "text": [
            "/usr/local/lib/python3.9/dist-packages/xgboost/sklearn.py:835: UserWarning: `eval_metric` in `fit` method is deprecated for better compatibility with scikit-learn, use `eval_metric` in constructor or`set_params` instead.\n",
            "  warnings.warn(\n"
          ]
        },
        {
          "name": "stdout",
          "output_type": "stream",
          "text": [
            "CPU times: user 1h 37min 22s, sys: 4.33 s, total: 1h 37min 26s\n",
            "Wall time: 28min 5s\n",
            "Train Accuracy:  0.8110126523277073\n",
            "Test Accuraccy:  0.8086557092684894\n",
            "Classification Report:\n",
            "              precision    recall  f1-score   support\n",
            "\n",
            "  less_three       0.82      0.85      0.83    407627\n",
            "  three_plus       0.79      0.76      0.78    316450\n",
            "\n",
            "    accuracy                           0.81    724077\n",
            "   macro avg       0.81      0.80      0.80    724077\n",
            "weighted avg       0.81      0.81      0.81    724077\n",
            "\n",
            "Log Los: 0.4067858171658429\n",
            "ROC AUC: 0.8029479919715824\n",
            "PR AUC: 0.39220289626723087\n"
          ]
        }
      ],
      "source": [
        "import time\n",
        "from xgboost import XGBClassifier\n",
        "# create a default XGBoost classifier\n",
        "xg = XGBClassifier(n_estimators=500, random_state=seed)\n",
        "# define the eval set and metric\n",
        "eval_set = [(X_train, y_train), (X_test, y_test)]\n",
        "eval_metric = [\"auc\",\"error\"]\n",
        "# fit the model\n",
        "%time xg.fit(X_train, y_train, eval_metric=eval_metric, eval_set=eval_set, verbose=False)\n",
        "\n",
        "# final model assessment\n",
        "pred_test = xg.predict(X_test)\n",
        "pred_train = xg.predict(X_train)\n",
        "print('Train Accuracy: ', accuracy_score(y_train, pred_train))\n",
        "print('Test Accuraccy: ', accuracy_score(y_test, pred_test))\n",
        "print('Classification Report:')\n",
        "print(classification_report(y_test,pred_test, target_names = y_class))\n",
        "# Calculate Log Loss\n",
        "logloss = log_loss(y_test, xg.predict_proba(X_test))\n",
        "print(\"Log Los:\", logloss)\n",
        "#Calculate AUC and plot ROC curve\n",
        "print(\"ROC AUC:\",roc_auc_score(y_test, pred_test))\n",
        "fpr, tpr, treshold = precision_recall_curve(y_test, pred_test)\n",
        "pr_roc_auc = auc(fpr, tpr)\n",
        "print(\"PR AUC:\",pr_roc_auc)"
      ]
    },
    {
      "cell_type": "markdown",
      "metadata": {
        "id": "42dwUofRp5M1"
      },
      "source": [
        "### Random Forest Classifier"
      ]
    },
    {
      "cell_type": "code",
      "execution_count": null,
      "metadata": {
        "colab": {
          "base_uri": "https://localhost:8080/"
        },
        "id": "Q4aCqALEwcmR",
        "outputId": "875f69ed-d4b8-4b86-e3e9-0afa3cb44eba"
      },
      "outputs": [
        {
          "output_type": "stream",
          "name": "stdout",
          "text": [
            "Accuracy: 0.8152558360505858\n",
            "Classification report :\n",
            "               precision    recall  f1-score   support\n",
            "\n",
            "  less_three       0.83      0.84      0.84    407627\n",
            "  three_plus       0.79      0.78      0.79    316450\n",
            "\n",
            "    accuracy                           0.82    724077\n",
            "   macro avg       0.81      0.81      0.81    724077\n",
            "weighted avg       0.82      0.82      0.82    724077\n",
            "\n"
          ]
        }
      ],
      "source": [
        "# Train a Random Forest Classifier for binary classification of six year or more\n",
        "dtrf = RandomForestClassifier(random_state=seed)\n",
        "dtrf.fit(X_train, y_train)\n",
        "\n",
        "# Predict the target values for the test set\n",
        "y_pred = dtrf.predict(X_test)\n",
        "\n",
        "# Evaluate the classifier's performance\n",
        "accuracy = accuracy_score(y_test, y_pred)\n",
        "print(\"Accuracy:\", accuracy)\n",
        "print(\"Classification report :\\n\", classification_report(y_test, y_pred, target_names = y_class))"
      ]
    },
    {
      "cell_type": "code",
      "execution_count": null,
      "metadata": {
        "colab": {
          "base_uri": "https://localhost:8080/",
          "height": 709
        },
        "id": "cG3sTI2-oHkg",
        "outputId": "48f92f0d-4131-43fc-f16f-572e15ae972b"
      },
      "outputs": [
        {
          "output_type": "display_data",
          "data": {
            "text/plain": [
              "<Figure size 750x750 with 1 Axes>"
            ],
            "image/png": "[encoded data removed]"
          },
          "metadata": {}
        }
      ],
      "source": [
        "conf = confusion_matrix(y_test, y_pred)\n",
        "classes = [\"<3 years\", \"> 3 years\"]\n",
        "# Print the confusion matrix using Matplotlib\n",
        "\n",
        "fig, ax = plt.subplots(figsize=(7.5, 7.5))\n",
        "ax.matshow(conf, cmap=plt.cm.Blues, alpha=0.3)\n",
        "totalless3 = conf[0,0]+conf[0,1]\n",
        "totalmore3 = conf[1,0]+conf[1,1]\n",
        "for i in range(conf.shape[0]):\n",
        "    for j in range(conf.shape[1]):\n",
        "        if (i == 0 ):\n",
        "          ax.text(x=j, y=i,s=format((conf[i, j]/(totalless3)), '.2%'), va='center', ha='center', size='xx-large')\n",
        "        else:\n",
        "          ax.text(x=j, y=i,s=format((conf[i, j]/(totalmore3)), '.2%'), va='center', ha='center', size='xx-large')\n",
        "\n",
        "plt.xticks(np.arange(len(classes)), classes, fontsize=18)\n",
        "plt.yticks(np.arange(len(classes)), classes, fontsize=18)\n",
        "plt.xlabel('Predictions', fontsize=18)\n",
        "plt.ylabel('Actuals', fontsize=18)\n",
        "plt.title('Confusion Matrix', fontsize=18)\n",
        "plt.show()"
      ]
    },
    {
      "cell_type": "code",
      "source": [
        "print(totalless3)"
      ],
      "metadata": {
        "colab": {
          "base_uri": "https://localhost:8080/"
        },
        "id": "VCWORtlKT4Qr",
        "outputId": "b6b51841-1572-45e5-bee1-5bc2891f58f9"
      },
      "execution_count": null,
      "outputs": [
        {
          "output_type": "stream",
          "name": "stdout",
          "text": [
            "407627\n"
          ]
        }
      ]
    },
    {
      "cell_type": "code",
      "execution_count": null,
      "metadata": {
        "id": "FlSeq6X62vzm",
        "colab": {
          "base_uri": "https://localhost:8080/",
          "height": 484
        },
        "outputId": "0a4707fc-1544-411e-8935-dafb0a5a00bb"
      },
      "outputs": [
        {
          "output_type": "stream",
          "name": "stdout",
          "text": [
            "Log Los: 0.5663113659156319\n",
            "ROC AUC: 0.8114425708966659\n"
          ]
        },
        {
          "output_type": "display_data",
          "data": {
            "text/plain": [
              "<Figure size 640x480 with 1 Axes>"
            ],
            "image/png": "[encoded data removed]"
          },
          "metadata": {}
        }
      ],
      "source": [
        "# Calculate Log Loss\n",
        "logloss = log_loss(y_test, dtrf.predict_proba(X_test))\n",
        "print(\"Log Los:\", logloss)\n",
        "#Calculate AUC and plot ROC curve\n",
        "print(\"ROC AUC:\",roc_auc_score(y_test, y_pred))\n",
        "fpr, tpr, treshold = roc_curve(y_test, y_pred)\n",
        "roc_auc = auc(fpr, tpr)\n",
        "# Plot the AUC ROC curve\n",
        "plt.plot(fpr, tpr, color='red',\n",
        "         lw=2, label='ROC curve')\n",
        "plt.plot([0, 1], [0, 1], color='navy', lw=2, linestyle='--', label=\"Mean\")\n",
        "plt.xlim([-0.05, 1.0])\n",
        "plt.ylim([0.0, 1.05])\n",
        "plt.xlabel('False Positive Rate')\n",
        "plt.ylabel('True Positive Rate')\n",
        "plt.legend(loc=\"lower right\")\n",
        "plt.show()"
      ]
    },
    {
      "cell_type": "code",
      "execution_count": null,
      "metadata": {
        "colab": {
          "base_uri": "https://localhost:8080/",
          "height": 466
        },
        "id": "znmqB5JItdAh",
        "outputId": "d2f27fbb-6e4e-467e-8fbc-bc4906befb15"
      },
      "outputs": [
        {
          "output_type": "stream",
          "name": "stdout",
          "text": [
            "PR AUC: 0.39787443694525865\n"
          ]
        },
        {
          "output_type": "display_data",
          "data": {
            "text/plain": [
              "<Figure size 640x480 with 1 Axes>"
            ],
            "image/png": "[encoded data removed]"
          },
          "metadata": {}
        }
      ],
      "source": [
        "#Calculate PR AUC and plot ROC curve\n",
        "fpr, tpr, treshold = precision_recall_curve(y_test, y_pred)\n",
        "pr_roc_auc = auc(fpr, tpr)\n",
        "print(\"PR AUC:\",pr_roc_auc)\n",
        "# Plot the PR ROC curve\n",
        "plt.plot(fpr, tpr, color='red',\n",
        "         lw=2, label='PR ROC')\n",
        "plt.xlim([-0.05, 1.0])\n",
        "plt.ylim([0.0, 1.05])\n",
        "plt.xlabel('False Positive Rate')\n",
        "plt.ylabel('True Positive Rate')\n",
        "plt.legend(loc=\"lower right\")\n",
        "plt.show()"
      ]
    },
    {
      "cell_type": "code",
      "execution_count": null,
      "metadata": {
        "id": "d-9e23E547fs",
        "colab": {
          "base_uri": "https://localhost:8080/",
          "height": 466
        },
        "outputId": "68eca184-33eb-40df-afc3-f098fe9f284d"
      },
      "outputs": [
        {
          "output_type": "execute_result",
          "data": {
            "text/plain": [
              "Text(0, 0.5, 'Features')"
            ]
          },
          "metadata": {},
          "execution_count": 22
        },
        {
          "output_type": "display_data",
          "data": {
            "text/plain": [
              "<Figure size 640x480 with 1 Axes>"
            ],
            "image/png": "[encoded data removed]"
          },
          "metadata": {}
        }
      ],
      "source": [
        "# get the feature importances\n",
        "features = np.array(X_train.columns)\n",
        "importances = dtrf.feature_importances_\n",
        "\n",
        "# sort the indexes\n",
        "sorted_index = np.argsort(importances)\n",
        "sorted_importances = importances[sorted_index]\n",
        "sorted_features = features[sorted_index]\n",
        "# plot the explained variance using a barplot\n",
        "fig, ax = plt.subplots()\n",
        "ax.barh(sorted_features , sorted_importances)\n",
        "ax.set_xlabel('Importances')\n",
        "ax.set_ylabel('Features')"
      ]
    }
  ],
  "metadata": {
    "colab": {
      "machine_shape": "hm",
      "provenance": []
    },
    "gpuClass": "standard",
    "kernelspec": {
      "display_name": "Python 3",
      "name": "python3"
    }
  },
  "nbformat": 4,
  "nbformat_minor": 0
}
